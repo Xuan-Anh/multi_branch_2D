{
 "cells": [
  {
   "cell_type": "code",
   "execution_count": 1,
   "metadata": {},
   "outputs": [
    {
     "ename": "FileNotFoundError",
     "evalue": "[Errno 2] No such file or directory: '/home/hnguyen/doc/multi_branch_2D/data/data_isbi_2015/training/training01/preprocessed'",
     "output_type": "error",
     "traceback": [
      "\u001b[0;31m---------------------------------------------------------------------------\u001b[0m",
      "\u001b[0;31mFileNotFoundError\u001b[0m                         Traceback (most recent call last)",
      "Cell \u001b[0;32mIn[1], line 5\u001b[0m\n\u001b[1;32m      2\u001b[0m \u001b[39mfor\u001b[39;00m i \u001b[39min\u001b[39;00m \u001b[39mrange\u001b[39m(\u001b[39m1\u001b[39m,\u001b[39m5\u001b[39m):\n\u001b[1;32m      3\u001b[0m     \u001b[39m# /home/hnguyen/doc/multi_branch_2D/data/data_isbi_2015/training/training01/preprocessed\u001b[39;00m\n\u001b[1;32m      4\u001b[0m     path \u001b[39m=\u001b[39m \u001b[39mf\u001b[39m\u001b[39m'\u001b[39m\u001b[39m/home/hnguyen/doc/multi_branch_2D/data/data_isbi_2015/training/training0\u001b[39m\u001b[39m{\u001b[39;00mi\u001b[39m}\u001b[39;00m\u001b[39m/preprocessed\u001b[39m\u001b[39m'\u001b[39m\n\u001b[0;32m----> 5\u001b[0m     list_dir \u001b[39m=\u001b[39m  os\u001b[39m.\u001b[39;49mlistdir(path)\n\u001b[1;32m      6\u001b[0m     \u001b[39mprint\u001b[39m(\u001b[39m'\u001b[39m\u001b[39mlen dir = \u001b[39m\u001b[39m'\u001b[39m, \u001b[39mlen\u001b[39m(list_dir))\n",
      "\u001b[0;31mFileNotFoundError\u001b[0m: [Errno 2] No such file or directory: '/home/hnguyen/doc/multi_branch_2D/data/data_isbi_2015/training/training01/preprocessed'"
     ]
    }
   ],
   "source": [
    "import os \n",
    "for i in range(1,5):\n",
    "    # /home/hnguyen/doc/multi_branch_2D/data/data_isbi_2015/training/training01/preprocessed\n",
    "    path = f'/home/hnguyen/doc/multi_branch_2D/data/data_isbi_2015/training/training0{i}/preprocessed'\n",
    "    list_dir =  os.listdir(path)\n",
    "    print('len dir = ', len(list_dir))"
   ]
  },
  {
   "cell_type": "code",
   "execution_count": 8,
   "metadata": {},
   "outputs": [
    {
     "data": {
      "text/plain": [
       "(217, 181, 3)"
      ]
     },
     "execution_count": 8,
     "metadata": {},
     "output_type": "execute_result"
    }
   ],
   "source": [
    "path_0 = '/home/hnguyen/doc/multi_branch_2D/data/sample_dataset/train/0.pkl'\n",
    "path_1 = '/home/hnguyen/doc/multi_branch_2D/data/sample_dataset/train/1.pkl'\n",
    "import pickle\n",
    "# read pkl file \n",
    "img_0 = pickle.load(open(path_0, 'rb'))\n",
    "img_1 = pickle.load(open(path_1, 'rb'))\n",
    "\n",
    "# img_0['t1'][:, :, 1] - img_1['t1'][:, :, 0]\n",
    "img_1['t1'].shape\n"
   ]
  },
  {
   "cell_type": "code",
   "execution_count": 2,
   "metadata": {},
   "outputs": [
    {
     "ename": "ModuleNotFoundError",
     "evalue": "No module named 'data.ms_2d_dataset'",
     "output_type": "error",
     "traceback": [
      "\u001b[0;31m---------------------------------------------------------------------------\u001b[0m",
      "\u001b[0;31mModuleNotFoundError\u001b[0m                       Traceback (most recent call last)",
      "Cell \u001b[0;32mIn[2], line 8\u001b[0m\n\u001b[1;32m      6\u001b[0m \u001b[39mimport\u001b[39;00m \u001b[39mnumpy\u001b[39;00m \u001b[39mas\u001b[39;00m \u001b[39mnp\u001b[39;00m\n\u001b[1;32m      7\u001b[0m \u001b[39mimport\u001b[39;00m \u001b[39mtorch\u001b[39;00m\u001b[39m.\u001b[39;00m\u001b[39mutils\u001b[39;00m\u001b[39m.\u001b[39;00m\u001b[39mdata\u001b[39;00m \u001b[39mas\u001b[39;00m \u001b[39mdata\u001b[39;00m\n\u001b[0;32m----> 8\u001b[0m \u001b[39mfrom\u001b[39;00m \u001b[39mdata\u001b[39;00m\u001b[39m.\u001b[39;00m\u001b[39mms_2d_dataset\u001b[39;00m \u001b[39mimport\u001b[39;00m \u001b[39m*\u001b[39m\n\u001b[1;32m      9\u001b[0m \u001b[39mfrom\u001b[39;00m \u001b[39mdotmap\u001b[39;00m \u001b[39mimport\u001b[39;00m DotMap\n\u001b[1;32m     10\u001b[0m root \u001b[39m=\u001b[39m \u001b[39m'\u001b[39m\u001b[39m/home/hnguyen/doc/multi_branch_2D/data/sample_dataset\u001b[39m\u001b[39m'\u001b[39m\n",
      "\u001b[0;31mModuleNotFoundError\u001b[0m: No module named 'data.ms_2d_dataset'"
     ]
    }
   ],
   "source": [
    "import os.path\n",
    "import random\n",
    "import torchvision.transforms as transforms\n",
    "import torch.nn.functional as F\n",
    "import torch\n",
    "import numpy as np\n",
    "import torch.utils.data as data\n",
    "from data.ms_2d_dataset import *\n",
    "from dotmap import DotMap\n",
    "root = '/home/hnguyen/doc/multi_branch_2D/data/sample_dataset'\n",
    "opt = {'dataroot': root, 'phase': 'train', 'trainSize': 256, 'no_flip': False}\n",
    "opt = DotMap(opt)\n",
    "data_ms = MsDataset()\n",
    "data_ms.initialize(opt)\n",
    "len(data_ms)\n",
    "\n"
   ]
  },
  {
   "cell_type": "code",
   "execution_count": 2,
   "metadata": {},
   "outputs": [
    {
     "ename": "NameError",
     "evalue": "name 'data_ms' is not defined",
     "output_type": "error",
     "traceback": [
      "\u001b[0;31m---------------------------------------------------------------------------\u001b[0m",
      "\u001b[0;31mNameError\u001b[0m                                 Traceback (most recent call last)",
      "\u001b[0;32m<ipython-input-2-4537397ecaa0>\u001b[0m in \u001b[0;36m<module>\u001b[0;34m\u001b[0m\n\u001b[1;32m      2\u001b[0m \u001b[0;31m# plot img\u001b[0m\u001b[0;34m\u001b[0m\u001b[0;34m\u001b[0m\u001b[0;34m\u001b[0m\u001b[0m\n\u001b[1;32m      3\u001b[0m \u001b[0;32mimport\u001b[0m \u001b[0mmatplotlib\u001b[0m\u001b[0;34m.\u001b[0m\u001b[0mpyplot\u001b[0m \u001b[0;32mas\u001b[0m \u001b[0mplt\u001b[0m\u001b[0;34m\u001b[0m\u001b[0;34m\u001b[0m\u001b[0m\n\u001b[0;32m----> 4\u001b[0;31m \u001b[0mdata_image\u001b[0m \u001b[0;34m=\u001b[0m \u001b[0mdata_ms\u001b[0m\u001b[0;34m[\u001b[0m\u001b[0mindex_ms\u001b[0m\u001b[0;34m]\u001b[0m\u001b[0;34m\u001b[0m\u001b[0;34m\u001b[0m\u001b[0m\n\u001b[0m\u001b[1;32m      5\u001b[0m \u001b[0;31m# visualize medical xray image\u001b[0m\u001b[0;34m\u001b[0m\u001b[0;34m\u001b[0m\u001b[0;34m\u001b[0m\u001b[0m\n\u001b[1;32m      6\u001b[0m \u001b[0;34m\u001b[0m\u001b[0m\n",
      "\u001b[0;31mNameError\u001b[0m: name 'data_ms' is not defined"
     ]
    }
   ],
   "source": [
    "index_ms = 1000\n",
    "# plot img \n",
    "import matplotlib.pyplot as plt\n",
    "data_image = data_ms[index_ms]\n",
    "# visualize medical xray image\n",
    "\n",
    "from ipywidgets import ToggleButtons\n",
    "from ipywidgets import interact, interactive, fixed, interact_manual\n",
    "select_class = ToggleButtons(\n",
    "    options = ['t1', 't2', 'flair', 'mask'],\n",
    "    description = 'Select class:',\n",
    "    disable = False,\n",
    "    button_style = 'info', # 'success', 'info', 'warning', 'danger' or '')\n",
    ")\n",
    "from ipywidgets import IntSlider\n",
    "select_layer = IntSlider(min = 0, max = 2, description = 'Select layer:')\n",
    "def plot_image(select_class, select_layer):\n",
    "    ''' \n",
    "    data_image: dict has key: t1, t2, flair, mask\n",
    "    select_class: list of class ['t1', 't2', 'flair', 'mask']\n",
    "    select_layer: int, select layer of image\n",
    "    '''\n",
    "    plt.figure(figsize = (20, 10))\n",
    "\n",
    "    plt.imshow(data_image[select_class][select_layer])\n",
    "    # draw blue color if have mask in gray image\n",
    "    draw_mask  =  data_image['mask'][select_layer] > 0 \n",
    "    plt.imshow(draw_mask, alpha = 0.7)\n",
    "    plt.show()\n",
    "    \n",
    "interact(plot_image, select_class = select_class, select_layer = select_layer)"
   ]
  },
  {
   "cell_type": "code",
   "execution_count": 6,
   "metadata": {},
   "outputs": [
    {
     "data": {
      "text/plain": [
       "8444"
      ]
     },
     "execution_count": 6,
     "metadata": {},
     "output_type": "execute_result"
    }
   ],
   "source": [
    "# root_path = \"/home/hnguyen/doc/multi_branch_2D/data/sample_dataset/train\"\n",
    "# train_2d_slice_path = \"/home/hnguyen/doc/multi_branch_2D/data/sample_dataset/train_2d\"\n",
    "# import os\n",
    "# import pickle\n",
    "# pkl_list = os.listdir(root_path)\n",
    "\n",
    "import os.path\n",
    "import random\n",
    "import torch\n",
    "import numpy as np\n",
    "import torch.utils.data as data\n",
    "from main.ms_2d_dataset import *\n",
    "from dotmap import DotMap\n",
    "root = '/home/anhnx5/work/multi_branch_2d/data/sample_dataset'\n",
    "opt = {'dataroot': root, 'phase': 'train', 'trainSize': 256, 'no_flip': False}\n",
    "opt = DotMap(opt)\n",
    "data_ms = MsDataset()\n",
    "data_ms.initialize(opt)\n",
    "len(data_ms)\n",
    "\n"
   ]
  },
  {
   "cell_type": "code",
   "execution_count": 7,
   "metadata": {},
   "outputs": [],
   "source": [
    "root_path = \"/home/anhnx5/work/multi_branch_2d/data/sample_dataset/train\"\n",
    "train_2d_slice_processed_path = \"/home/anhnx5/work/multi_branch_2d/data/sample_dataset/train_2d_processed\"\n",
    "import os\n",
    "import pickle\n",
    "pkl_list = os.listdir(root_path)\n",
    "\n",
    "count_slice = 0\n",
    "for data in data_ms: \n",
    "        image_t1 = data['t1']\n",
    "        image_t2 = data['t2']\n",
    "        image_flair = data['flair']\n",
    "        image_mask = data['mask']\n",
    "        for slice in range(image_t1.shape[0]):\n",
    "            name_slice_file = 'slice_' + str(count_slice) + '.pkl'\n",
    "            dict_slice = {'t1': image_t1[slice,:,:], 't2': image_t2[slice,:,:], 'flair': image_flair[slice,:,:], 'mask': image_mask[0,:,:]}\n",
    "            # save variable dict_slice to pkl file\n",
    "            target_path = os.path.join(train_2d_slice_processed_path, name_slice_file)\n",
    "            # save pkl file\n",
    "            with open(target_path, 'wb') as f:\n",
    "                pickle.dump(dict_slice, f)\n",
    "            count_slice += 1"
   ]
  },
  {
   "cell_type": "code",
   "execution_count": 9,
   "metadata": {},
   "outputs": [
    {
     "data": {
      "text/plain": [
       "torch.Size([256, 256])"
      ]
     },
     "execution_count": 9,
     "metadata": {},
     "output_type": "execute_result"
    }
   ],
   "source": [
    "path_pickle = '/home/anhnx5/work/multi_branch_2d/data/sample_dataset/train_2d_processed/slice_0.pkl'\n",
    "import pickle\n",
    "# load pkl file\n",
    "data = pickle.load(open(path_pickle, 'rb'))\n",
    "data['mask'].shape"
   ]
  },
  {
   "attachments": {},
   "cell_type": "markdown",
   "metadata": {},
   "source": [
    "# check số lượng slice và tổng số độ sâu thu được từ các slice"
   ]
  },
  {
   "cell_type": "code",
   "execution_count": 29,
   "metadata": {},
   "outputs": [
    {
     "name": "stdout",
     "output_type": "stream",
     "text": [
      "sum_slice =  7602\n"
     ]
    }
   ],
   "source": [
    "train_2d_processed_path  = 'data/sample_dataset/train_2d_processed'\n",
    "raw_path = '/home/anhnx5/work/multi_branch_2d/data/sample_dataset/raw'\n",
    "import os \n",
    "# print('len train_2d_processed_path = ', len(os.listdir(train_2d_processed_path)))\n",
    "\n",
    "import nibabel as nib\n",
    "import pickle\n",
    "file_list = os.listdir(raw_path)\n",
    "sum_slice = 0\n",
    "# path = '/home/anhnx5/work/multi_branch_2d/data/isbi_dataset/training/training01/masks'\n",
    "for i in range(1,6):\n",
    "    path = f'/home/anhnx5/work/multi_branch_2d/data/isbi_dataset/training/training0{i}/masks'\n",
    "    file_list = os.listdir(path)\n",
    "    for file in file_list:\n",
    "        if file.endswith('.nii'):\n",
    "            path_file = os.path.join(path, file)\n",
    "            img = nib.load(path_file)\n",
    "            sum_slice += img.shape[0]\n",
    "print('sum_slice = ', sum_slice)\n",
    "    "
   ]
  },
  {
   "cell_type": "code",
   "execution_count": 30,
   "metadata": {},
   "outputs": [
    {
     "data": {
      "text/plain": [
       "15204"
      ]
     },
     "execution_count": 30,
     "metadata": {},
     "output_type": "execute_result"
    }
   ],
   "source": [
    "7602*2"
   ]
  },
  {
   "cell_type": "code",
   "execution_count": 21,
   "metadata": {},
   "outputs": [
    {
     "data": {
      "text/plain": [
       "25332"
      ]
     },
     "execution_count": 21,
     "metadata": {},
     "output_type": "execute_result"
    }
   ],
   "source": [
    "train_path = '/home/anhnx5/work/multi_branch_2d/data/sample_dataset/train'\n",
    "file_list = os.listdir(train_path)\n",
    "sum_slice = \n",
    "for file in file_list:\n",
    "    if file.endswith('.pkl'):\n",
    "        path_file = os.path.join(train_path, file)\n",
    "        data = pickle.load(open(path_file, 'rb'))\n",
    "        "
   ]
  },
  {
   "attachments": {},
   "cell_type": "markdown",
   "metadata": {},
   "source": [
    "# Build dataset"
   ]
  },
  {
   "cell_type": "code",
   "execution_count": 40,
   "metadata": {},
   "outputs": [],
   "source": [
    "# run data_pkl.py"
   ]
  },
  {
   "cell_type": "code",
   "execution_count": 55,
   "metadata": {},
   "outputs": [],
   "source": []
  }
 ],
 "metadata": {
  "kernelspec": {
   "display_name": "tiramisu",
   "language": "python",
   "name": "python3"
  },
  "language_info": {
   "codemirror_mode": {
    "name": "ipython",
    "version": 3
   },
   "file_extension": ".py",
   "mimetype": "text/x-python",
   "name": "python",
   "nbconvert_exporter": "python",
   "pygments_lexer": "ipython3",
   "version": "3.8.16"
  },
  "orig_nbformat": 4,
  "vscode": {
   "interpreter": {
    "hash": "1bc4bb56b97818bf060df32d74a499d3c676370c9fb8148800d4da71b8d7e8e7"
   }
  }
 },
 "nbformat": 4,
 "nbformat_minor": 2
}
